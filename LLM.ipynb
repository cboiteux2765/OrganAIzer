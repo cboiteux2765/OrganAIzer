{
 "cells": [
  {
   "cell_type": "code",
   "execution_count": 4,
   "metadata": {},
   "outputs": [
    {
     "name": "stdout",
     "output_type": "stream",
     "text": [
      "The image shows a cluttered room with various items, including a blue backpack, a white wicker basket, and a blue and black duffel bag, all on the floor.\n",
      "To make the room cleaner, you can start by organizing and tidying up the clutter. In the image, there are multiple bags, including backpacks, a suitcase, and a duffel bag, scattered on the floor. You can gather all the bags and find a proper storage solution, such as a closet, storage bin, or luggage rack, to keep them off the floor. Additionally, you can sort through the clothes and other items in the room, deciding what to keep, donate, or discard. Properly organizing and storing the items will not only make the room look cleaner but also make it easier to maintain and keep the space tidy.\n"
     ]
    }
   ],
   "source": [
    "from transformers import AutoTokenizer,AutoModelForCausalLM\n",
    "from PIL import Image\n",
    "\n",
    "model_id = \"vikhyatk/moondream2\"\n",
    "revision = \"2024-07-23\"\n",
    "model = AutoModelForCausalLM.from_pretrained(\n",
    "    model_id, trust_remote_code=True, revision=revision\n",
    ")\n",
    "tokenizer = AutoTokenizer.from_pretrained(model_id, revision=revision)\n",
    "\n",
    "image = Image.open('messy.jpg')\n",
    "enc_image = model.encode_image(image)\n",
    "print(model.answer_question(enc_image, \"Describe this image.\", tokenizer))\n",
    "print(model.answer_question(enc_image, \"How can I make the room cleaner?\", tokenizer))"
   ]
  },
  {
   "cell_type": "code",
   "execution_count": null,
   "metadata": {},
   "outputs": [],
   "source": [
    "import torch\n",
    "\n",
    "torch.device('gpu')"
   ]
  }
 ],
 "metadata": {
  "kernelspec": {
   "display_name": "Python 3",
   "language": "python",
   "name": "python3"
  },
  "language_info": {
   "codemirror_mode": {
    "name": "ipython",
    "version": 3
   },
   "file_extension": ".py",
   "mimetype": "text/x-python",
   "name": "python",
   "nbconvert_exporter": "python",
   "pygments_lexer": "ipython3",
   "version": "3.12.5"
  }
 },
 "nbformat": 4,
 "nbformat_minor": 2
}
